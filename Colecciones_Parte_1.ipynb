{
  "nbformat": 4,
  "nbformat_minor": 0,
  "metadata": {
    "colab": {
      "provenance": [],
      "authorship_tag": "ABX9TyOQzKPCwuxuAo3FIHYXBL9c",
      "include_colab_link": true
    },
    "kernelspec": {
      "name": "python3",
      "display_name": "Python 3"
    },
    "language_info": {
      "name": "python"
    }
  },
  "cells": [
    {
      "cell_type": "markdown",
      "metadata": {
        "id": "view-in-github",
        "colab_type": "text"
      },
      "source": [
        "<a href=\"https://colab.research.google.com/github/ahcamachod/1985-python-collections-listas-y-tuplas/blob/aula-2/Colecciones_Parte_1.ipynb\" target=\"_parent\"><img src=\"https://colab.research.google.com/assets/colab-badge.svg\" alt=\"Open In Colab\"/></a>"
      ]
    },
    {
      "cell_type": "markdown",
      "source": [
        "# Listas"
      ],
      "metadata": {
        "id": "MGFGYA4Qq1ff"
      }
    },
    {
      "cell_type": "code",
      "execution_count": null,
      "metadata": {
        "colab": {
          "base_uri": "https://localhost:8080/"
        },
        "id": "30J6zepJQFJN",
        "outputId": "33e73e55-92ed-46f7-cc4b-17adbb38e4f8"
      },
      "outputs": [
        {
          "output_type": "stream",
          "name": "stdout",
          "text": [
            "15\n",
            "18\n",
            "59\n",
            "71\n"
          ]
        }
      ],
      "source": [
        "edad1 = 15\n",
        "edad2 = 18\n",
        "edad3 = 59\n",
        "edad4 = 71\n",
        "\n",
        "print(edad1)\n",
        "print(edad2)\n",
        "print(edad3)\n",
        "print(edad4)"
      ]
    },
    {
      "cell_type": "code",
      "source": [
        "edades = [15,18,59,71]"
      ],
      "metadata": {
        "id": "IgwbgZWYQhUi"
      },
      "execution_count": null,
      "outputs": []
    },
    {
      "cell_type": "code",
      "source": [
        "type(edades)"
      ],
      "metadata": {
        "colab": {
          "base_uri": "https://localhost:8080/"
        },
        "id": "sbf1FaGVQ4le",
        "outputId": "874e2171-6e4d-4161-9d7f-f93e767902b7"
      },
      "execution_count": null,
      "outputs": [
        {
          "output_type": "execute_result",
          "data": {
            "text/plain": [
              "list"
            ]
          },
          "metadata": {},
          "execution_count": 3
        }
      ]
    },
    {
      "cell_type": "code",
      "source": [
        "edades.append(35)\n",
        "edades"
      ],
      "metadata": {
        "colab": {
          "base_uri": "https://localhost:8080/"
        },
        "id": "zLT_arxERA7W",
        "outputId": "029555fe-c362-400d-e504-88a1290c2292"
      },
      "execution_count": null,
      "outputs": [
        {
          "output_type": "execute_result",
          "data": {
            "text/plain": [
              "[15, 18, 59, 71, 35]"
            ]
          },
          "metadata": {},
          "execution_count": 4
        }
      ]
    },
    {
      "cell_type": "code",
      "source": [
        "edades.append(18)"
      ],
      "metadata": {
        "id": "ZqClbLEFRpZD"
      },
      "execution_count": null,
      "outputs": []
    },
    {
      "cell_type": "code",
      "source": [
        "edades"
      ],
      "metadata": {
        "colab": {
          "base_uri": "https://localhost:8080/"
        },
        "id": "i7I1UrrdRtKN",
        "outputId": "d0cdcf92-3bd3-49fa-82b7-549d01e7bd54"
      },
      "execution_count": null,
      "outputs": [
        {
          "output_type": "execute_result",
          "data": {
            "text/plain": [
              "[15, 18, 59, 71, 35, 18]"
            ]
          },
          "metadata": {},
          "execution_count": 6
        }
      ]
    },
    {
      "cell_type": "code",
      "source": [
        "edades.remove(18)\n",
        "edades"
      ],
      "metadata": {
        "colab": {
          "base_uri": "https://localhost:8080/"
        },
        "id": "WS65gn3xRUjU",
        "outputId": "b02b23ad-3d26-4735-95d3-0c563c293bde"
      },
      "execution_count": null,
      "outputs": [
        {
          "output_type": "execute_result",
          "data": {
            "text/plain": [
              "[15, 59, 71, 35, 18]"
            ]
          },
          "metadata": {},
          "execution_count": 7
        }
      ]
    },
    {
      "cell_type": "code",
      "source": [
        "len(edades)"
      ],
      "metadata": {
        "colab": {
          "base_uri": "https://localhost:8080/"
        },
        "id": "RDNYo9PqSEVp",
        "outputId": "47174e2a-c974-43e7-d22d-36da8848fffd"
      },
      "execution_count": null,
      "outputs": [
        {
          "output_type": "execute_result",
          "data": {
            "text/plain": [
              "5"
            ]
          },
          "metadata": {},
          "execution_count": 8
        }
      ]
    },
    {
      "cell_type": "code",
      "source": [
        "edades.insert(1,18)\n",
        "edades"
      ],
      "metadata": {
        "colab": {
          "base_uri": "https://localhost:8080/"
        },
        "id": "G6ojgt6sRxMT",
        "outputId": "176a244d-e15c-4183-da77-212c4419e460"
      },
      "execution_count": null,
      "outputs": [
        {
          "output_type": "execute_result",
          "data": {
            "text/plain": [
              "[15, 18, 59, 71, 35, 18]"
            ]
          },
          "metadata": {},
          "execution_count": 9
        }
      ]
    },
    {
      "cell_type": "code",
      "source": [
        "edades.clear()"
      ],
      "metadata": {
        "id": "aynKYG9mSN-p"
      },
      "execution_count": null,
      "outputs": []
    },
    {
      "cell_type": "code",
      "source": [
        "edades"
      ],
      "metadata": {
        "colab": {
          "base_uri": "https://localhost:8080/"
        },
        "id": "GKZgxxzYSdQb",
        "outputId": "78b70bc9-ac55-4a68-da04-d2a0bd6dc130"
      },
      "execution_count": null,
      "outputs": [
        {
          "output_type": "execute_result",
          "data": {
            "text/plain": [
              "[]"
            ]
          },
          "metadata": {},
          "execution_count": 11
        }
      ]
    },
    {
      "cell_type": "code",
      "source": [
        "edades = [15, 18, 59, 71, 35, 18]"
      ],
      "metadata": {
        "id": "n5hXi09YSeUJ"
      },
      "execution_count": null,
      "outputs": []
    },
    {
      "cell_type": "code",
      "source": [
        "edades.append([45,35])"
      ],
      "metadata": {
        "id": "N4GYCVK4UI9-"
      },
      "execution_count": null,
      "outputs": []
    },
    {
      "cell_type": "code",
      "source": [
        "edades"
      ],
      "metadata": {
        "colab": {
          "base_uri": "https://localhost:8080/"
        },
        "id": "voaFOZPhURQj",
        "outputId": "8a362df7-8036-4fc6-c148-e31a744ddd69"
      },
      "execution_count": null,
      "outputs": [
        {
          "output_type": "execute_result",
          "data": {
            "text/plain": [
              "[15, 18, 59, 71, 35, 18, [45, 35]]"
            ]
          },
          "metadata": {},
          "execution_count": 14
        }
      ]
    },
    {
      "cell_type": "code",
      "source": [
        "edades.extend([45,35])\n",
        "edades"
      ],
      "metadata": {
        "colab": {
          "base_uri": "https://localhost:8080/"
        },
        "id": "SpJarAZEUVoJ",
        "outputId": "0e020ed7-ce7b-45d2-893e-52696f88648d"
      },
      "execution_count": null,
      "outputs": [
        {
          "output_type": "execute_result",
          "data": {
            "text/plain": [
              "[15, 18, 59, 71, 35, 18, [45, 35], 45, 35]"
            ]
          },
          "metadata": {},
          "execution_count": 15
        }
      ]
    },
    {
      "cell_type": "code",
      "source": [
        "edades.remove([45, 35])\n",
        "edades"
      ],
      "metadata": {
        "colab": {
          "base_uri": "https://localhost:8080/"
        },
        "id": "OhEKRWfQUme7",
        "outputId": "2b9f2b1b-f67b-409b-aa61-4974e17f5e60"
      },
      "execution_count": null,
      "outputs": [
        {
          "output_type": "execute_result",
          "data": {
            "text/plain": [
              "[15, 18, 59, 71, 35, 18, 45, 35]"
            ]
          },
          "metadata": {},
          "execution_count": 16
        }
      ]
    },
    {
      "cell_type": "code",
      "source": [
        "65 in edades"
      ],
      "metadata": {
        "colab": {
          "base_uri": "https://localhost:8080/"
        },
        "id": "WTfu2yDiUt3a",
        "outputId": "9ac88e68-5fe6-424e-ae34-87b873fc7f75"
      },
      "execution_count": null,
      "outputs": [
        {
          "output_type": "execute_result",
          "data": {
            "text/plain": [
              "False"
            ]
          },
          "metadata": {},
          "execution_count": 17
        }
      ]
    },
    {
      "cell_type": "code",
      "source": [
        "45 in edades"
      ],
      "metadata": {
        "colab": {
          "base_uri": "https://localhost:8080/"
        },
        "id": "po8lO14QU4ui",
        "outputId": "9d1c4fd3-6fcb-4144-f2a6-faa0f1e1bc87"
      },
      "execution_count": null,
      "outputs": [
        {
          "output_type": "execute_result",
          "data": {
            "text/plain": [
              "True"
            ]
          },
          "metadata": {},
          "execution_count": 18
        }
      ]
    },
    {
      "cell_type": "code",
      "source": [
        "for edad in edades:\n",
        "  print(edad+1)"
      ],
      "metadata": {
        "colab": {
          "base_uri": "https://localhost:8080/"
        },
        "id": "KdFM0FCWU7lV",
        "outputId": "00baba67-cd5a-4cf7-da35-6fbdc2509fd6"
      },
      "execution_count": null,
      "outputs": [
        {
          "output_type": "stream",
          "name": "stdout",
          "text": [
            "16\n",
            "19\n",
            "60\n",
            "72\n",
            "36\n",
            "19\n",
            "46\n",
            "36\n"
          ]
        }
      ]
    },
    {
      "cell_type": "code",
      "source": [
        "edades_proximo_ano = []\n",
        "for edad in edades:\n",
        "  edades_proximo_ano.append(edad+1)\n",
        "edades_proximo_ano"
      ],
      "metadata": {
        "colab": {
          "base_uri": "https://localhost:8080/"
        },
        "id": "umYTh6zEVEFw",
        "outputId": "bc29ac47-0b1a-4762-d822-f5277e7492d0"
      },
      "execution_count": null,
      "outputs": [
        {
          "output_type": "execute_result",
          "data": {
            "text/plain": [
              "[16, 19, 60, 72, 36, 19, 46, 36]"
            ]
          },
          "metadata": {},
          "execution_count": 20
        }
      ]
    },
    {
      "cell_type": "markdown",
      "source": [
        "### List Comprehension"
      ],
      "metadata": {
        "id": "p7pjMYrVWTZL"
      }
    },
    {
      "cell_type": "code",
      "source": [
        "edades_proximo_ano = [edad + 1 for edad in edades]\n",
        "edades_proximo_ano"
      ],
      "metadata": {
        "colab": {
          "base_uri": "https://localhost:8080/"
        },
        "id": "TiJT606VVWii",
        "outputId": "078af147-7854-4fe8-b205-4cfc0ec56ddc"
      },
      "execution_count": null,
      "outputs": [
        {
          "output_type": "execute_result",
          "data": {
            "text/plain": [
              "[16, 19, 60, 72, 36, 19, 46, 36]"
            ]
          },
          "metadata": {},
          "execution_count": 21
        }
      ]
    },
    {
      "cell_type": "code",
      "source": [
        "mayores_de_edad_pa = [edad + 1 for edad in edades if edad > 21]\n",
        "mayores_de_edad_pa"
      ],
      "metadata": {
        "colab": {
          "base_uri": "https://localhost:8080/"
        },
        "id": "5NKLBErHV3fG",
        "outputId": "ea22260b-cd5c-4373-b5be-b96653eb3d75"
      },
      "execution_count": null,
      "outputs": [
        {
          "output_type": "execute_result",
          "data": {
            "text/plain": [
              "[60, 72, 36, 46, 36]"
            ]
          },
          "metadata": {},
          "execution_count": 22
        }
      ]
    },
    {
      "cell_type": "markdown",
      "source": [
        "### Problemas con la mutabilidad de las listas"
      ],
      "metadata": {
        "id": "h71eGk4wiydc"
      }
    },
    {
      "cell_type": "code",
      "source": [
        "def analisis_listas(lista):\n",
        "  print(id(lista))\n",
        "  print(len(lista))\n",
        "  lista.append(13)\n",
        "  return lista"
      ],
      "metadata": {
        "id": "ev7sO5LaikM0"
      },
      "execution_count": null,
      "outputs": []
    },
    {
      "cell_type": "code",
      "source": [
        "edades = [16, 19, 60, 72, 36, 19, 46, 36]"
      ],
      "metadata": {
        "id": "kFcyAgoZjEpH"
      },
      "execution_count": null,
      "outputs": []
    },
    {
      "cell_type": "code",
      "source": [
        "analisis_listas(edades)"
      ],
      "metadata": {
        "colab": {
          "base_uri": "https://localhost:8080/"
        },
        "id": "BFclmsAtjI96",
        "outputId": "38fcb397-408a-43fd-f598-57e20b631975"
      },
      "execution_count": null,
      "outputs": [
        {
          "output_type": "stream",
          "name": "stdout",
          "text": [
            "137944113736000\n",
            "8\n"
          ]
        },
        {
          "output_type": "execute_result",
          "data": {
            "text/plain": [
              "[16, 19, 60, 72, 36, 19, 46, 36, 13]"
            ]
          },
          "metadata": {},
          "execution_count": 25
        }
      ]
    },
    {
      "cell_type": "code",
      "source": [
        "def analisis_listas(lista=[]):\n",
        "  print(id(lista))\n",
        "  print(len(lista))\n",
        "  lista.append(13)\n",
        "  return lista"
      ],
      "metadata": {
        "id": "LNqCr33qjMTo"
      },
      "execution_count": null,
      "outputs": []
    },
    {
      "cell_type": "code",
      "source": [
        "analisis_listas()"
      ],
      "metadata": {
        "colab": {
          "base_uri": "https://localhost:8080/"
        },
        "id": "akKMqWMZjeDI",
        "outputId": "37e5d39f-7671-441a-d9eb-be22b7aeb442"
      },
      "execution_count": null,
      "outputs": [
        {
          "output_type": "stream",
          "name": "stdout",
          "text": [
            "137944129141312\n",
            "0\n"
          ]
        },
        {
          "output_type": "execute_result",
          "data": {
            "text/plain": [
              "[13]"
            ]
          },
          "metadata": {},
          "execution_count": 27
        }
      ]
    },
    {
      "cell_type": "code",
      "source": [
        "analisis_listas()"
      ],
      "metadata": {
        "colab": {
          "base_uri": "https://localhost:8080/"
        },
        "id": "2LzRpY7qjheC",
        "outputId": "c62a19ab-f63b-4e24-ac5d-3df7980c5a00"
      },
      "execution_count": null,
      "outputs": [
        {
          "output_type": "stream",
          "name": "stdout",
          "text": [
            "137944129141312\n",
            "1\n"
          ]
        },
        {
          "output_type": "execute_result",
          "data": {
            "text/plain": [
              "[13, 13]"
            ]
          },
          "metadata": {},
          "execution_count": 28
        }
      ]
    },
    {
      "cell_type": "code",
      "source": [
        "def analisis_listas(lista=None):\n",
        "  print(id(lista))\n",
        "  if lista == None:\n",
        "    lista = list()\n",
        "    print(id(lista))\n",
        "  print(len(lista))\n",
        "  lista.append(13)\n",
        "  return lista"
      ],
      "metadata": {
        "id": "nLvRAo55jlCx"
      },
      "execution_count": null,
      "outputs": []
    },
    {
      "cell_type": "code",
      "source": [
        "analisis_listas()"
      ],
      "metadata": {
        "colab": {
          "base_uri": "https://localhost:8080/"
        },
        "id": "LAB8aCZCj9XM",
        "outputId": "027f1694-9447-4379-e386-db43807ba363"
      },
      "execution_count": null,
      "outputs": [
        {
          "output_type": "stream",
          "name": "stdout",
          "text": [
            "98221330310112\n",
            "137944113778816\n",
            "0\n"
          ]
        },
        {
          "output_type": "execute_result",
          "data": {
            "text/plain": [
              "[13]"
            ]
          },
          "metadata": {},
          "execution_count": 30
        }
      ]
    },
    {
      "cell_type": "code",
      "source": [
        "analisis_listas()"
      ],
      "metadata": {
        "colab": {
          "base_uri": "https://localhost:8080/"
        },
        "id": "HFaKtDKTj-86",
        "outputId": "38747afd-7382-409a-8318-4a67c01478c1"
      },
      "execution_count": null,
      "outputs": [
        {
          "output_type": "stream",
          "name": "stdout",
          "text": [
            "98221330310112\n",
            "137944113785984\n",
            "0\n"
          ]
        },
        {
          "output_type": "execute_result",
          "data": {
            "text/plain": [
              "[13]"
            ]
          },
          "metadata": {},
          "execution_count": 31
        }
      ]
    },
    {
      "cell_type": "code",
      "source": [],
      "metadata": {
        "id": "qQqpoFxL833-"
      },
      "execution_count": null,
      "outputs": []
    }
  ]
}