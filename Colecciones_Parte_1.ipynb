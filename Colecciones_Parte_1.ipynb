{
  "nbformat": 4,
  "nbformat_minor": 0,
  "metadata": {
    "colab": {
      "provenance": [],
      "authorship_tag": "ABX9TyMD12dwU6BH7zhyF2GpLtPZ",
      "include_colab_link": true
    },
    "kernelspec": {
      "name": "python3",
      "display_name": "Python 3"
    },
    "language_info": {
      "name": "python"
    }
  },
  "cells": [
    {
      "cell_type": "markdown",
      "metadata": {
        "id": "view-in-github",
        "colab_type": "text"
      },
      "source": [
        "<a href=\"https://colab.research.google.com/github/ahcamachod/1985-python-collections-listas-y-tuplas/blob/aula-5/Colecciones_Parte_1.ipynb\" target=\"_parent\"><img src=\"https://colab.research.google.com/assets/colab-badge.svg\" alt=\"Open In Colab\"/></a>"
      ]
    },
    {
      "cell_type": "markdown",
      "source": [
        "# Listas"
      ],
      "metadata": {
        "id": "MGFGYA4Qq1ff"
      }
    },
    {
      "cell_type": "code",
      "execution_count": null,
      "metadata": {
        "colab": {
          "base_uri": "https://localhost:8080/"
        },
        "id": "30J6zepJQFJN",
        "outputId": "33e73e55-92ed-46f7-cc4b-17adbb38e4f8"
      },
      "outputs": [
        {
          "output_type": "stream",
          "name": "stdout",
          "text": [
            "15\n",
            "18\n",
            "59\n",
            "71\n"
          ]
        }
      ],
      "source": [
        "edad1 = 15\n",
        "edad2 = 18\n",
        "edad3 = 59\n",
        "edad4 = 71\n",
        "\n",
        "print(edad1)\n",
        "print(edad2)\n",
        "print(edad3)\n",
        "print(edad4)"
      ]
    },
    {
      "cell_type": "code",
      "source": [
        "edades = [15,18,59,71]"
      ],
      "metadata": {
        "id": "IgwbgZWYQhUi"
      },
      "execution_count": null,
      "outputs": []
    },
    {
      "cell_type": "code",
      "source": [
        "type(edades)"
      ],
      "metadata": {
        "colab": {
          "base_uri": "https://localhost:8080/"
        },
        "id": "sbf1FaGVQ4le",
        "outputId": "874e2171-6e4d-4161-9d7f-f93e767902b7"
      },
      "execution_count": null,
      "outputs": [
        {
          "output_type": "execute_result",
          "data": {
            "text/plain": [
              "list"
            ]
          },
          "metadata": {},
          "execution_count": 3
        }
      ]
    },
    {
      "cell_type": "code",
      "source": [
        "edades.append(35)\n",
        "edades"
      ],
      "metadata": {
        "colab": {
          "base_uri": "https://localhost:8080/"
        },
        "id": "zLT_arxERA7W",
        "outputId": "029555fe-c362-400d-e504-88a1290c2292"
      },
      "execution_count": null,
      "outputs": [
        {
          "output_type": "execute_result",
          "data": {
            "text/plain": [
              "[15, 18, 59, 71, 35]"
            ]
          },
          "metadata": {},
          "execution_count": 4
        }
      ]
    },
    {
      "cell_type": "code",
      "source": [
        "edades.append(18)"
      ],
      "metadata": {
        "id": "ZqClbLEFRpZD"
      },
      "execution_count": null,
      "outputs": []
    },
    {
      "cell_type": "code",
      "source": [
        "edades"
      ],
      "metadata": {
        "colab": {
          "base_uri": "https://localhost:8080/"
        },
        "id": "i7I1UrrdRtKN",
        "outputId": "d0cdcf92-3bd3-49fa-82b7-549d01e7bd54"
      },
      "execution_count": null,
      "outputs": [
        {
          "output_type": "execute_result",
          "data": {
            "text/plain": [
              "[15, 18, 59, 71, 35, 18]"
            ]
          },
          "metadata": {},
          "execution_count": 6
        }
      ]
    },
    {
      "cell_type": "code",
      "source": [
        "edades.remove(18)\n",
        "edades"
      ],
      "metadata": {
        "colab": {
          "base_uri": "https://localhost:8080/"
        },
        "id": "WS65gn3xRUjU",
        "outputId": "b02b23ad-3d26-4735-95d3-0c563c293bde"
      },
      "execution_count": null,
      "outputs": [
        {
          "output_type": "execute_result",
          "data": {
            "text/plain": [
              "[15, 59, 71, 35, 18]"
            ]
          },
          "metadata": {},
          "execution_count": 7
        }
      ]
    },
    {
      "cell_type": "code",
      "source": [
        "len(edades)"
      ],
      "metadata": {
        "colab": {
          "base_uri": "https://localhost:8080/"
        },
        "id": "RDNYo9PqSEVp",
        "outputId": "47174e2a-c974-43e7-d22d-36da8848fffd"
      },
      "execution_count": null,
      "outputs": [
        {
          "output_type": "execute_result",
          "data": {
            "text/plain": [
              "5"
            ]
          },
          "metadata": {},
          "execution_count": 8
        }
      ]
    },
    {
      "cell_type": "code",
      "source": [
        "edades.insert(1,18)\n",
        "edades"
      ],
      "metadata": {
        "colab": {
          "base_uri": "https://localhost:8080/"
        },
        "id": "G6ojgt6sRxMT",
        "outputId": "176a244d-e15c-4183-da77-212c4419e460"
      },
      "execution_count": null,
      "outputs": [
        {
          "output_type": "execute_result",
          "data": {
            "text/plain": [
              "[15, 18, 59, 71, 35, 18]"
            ]
          },
          "metadata": {},
          "execution_count": 9
        }
      ]
    },
    {
      "cell_type": "code",
      "source": [
        "edades.clear()"
      ],
      "metadata": {
        "id": "aynKYG9mSN-p"
      },
      "execution_count": null,
      "outputs": []
    },
    {
      "cell_type": "code",
      "source": [
        "edades"
      ],
      "metadata": {
        "colab": {
          "base_uri": "https://localhost:8080/"
        },
        "id": "GKZgxxzYSdQb",
        "outputId": "78b70bc9-ac55-4a68-da04-d2a0bd6dc130"
      },
      "execution_count": null,
      "outputs": [
        {
          "output_type": "execute_result",
          "data": {
            "text/plain": [
              "[]"
            ]
          },
          "metadata": {},
          "execution_count": 11
        }
      ]
    },
    {
      "cell_type": "code",
      "source": [
        "edades = [15, 18, 59, 71, 35, 18]"
      ],
      "metadata": {
        "id": "n5hXi09YSeUJ"
      },
      "execution_count": null,
      "outputs": []
    },
    {
      "cell_type": "code",
      "source": [
        "edades.append([45,35])"
      ],
      "metadata": {
        "id": "N4GYCVK4UI9-"
      },
      "execution_count": null,
      "outputs": []
    },
    {
      "cell_type": "code",
      "source": [
        "edades"
      ],
      "metadata": {
        "colab": {
          "base_uri": "https://localhost:8080/"
        },
        "id": "voaFOZPhURQj",
        "outputId": "8a362df7-8036-4fc6-c148-e31a744ddd69"
      },
      "execution_count": null,
      "outputs": [
        {
          "output_type": "execute_result",
          "data": {
            "text/plain": [
              "[15, 18, 59, 71, 35, 18, [45, 35]]"
            ]
          },
          "metadata": {},
          "execution_count": 14
        }
      ]
    },
    {
      "cell_type": "code",
      "source": [
        "edades.extend([45,35])\n",
        "edades"
      ],
      "metadata": {
        "colab": {
          "base_uri": "https://localhost:8080/"
        },
        "id": "SpJarAZEUVoJ",
        "outputId": "0e020ed7-ce7b-45d2-893e-52696f88648d"
      },
      "execution_count": null,
      "outputs": [
        {
          "output_type": "execute_result",
          "data": {
            "text/plain": [
              "[15, 18, 59, 71, 35, 18, [45, 35], 45, 35]"
            ]
          },
          "metadata": {},
          "execution_count": 15
        }
      ]
    },
    {
      "cell_type": "code",
      "source": [
        "edades.remove([45, 35])\n",
        "edades"
      ],
      "metadata": {
        "colab": {
          "base_uri": "https://localhost:8080/"
        },
        "id": "OhEKRWfQUme7",
        "outputId": "2b9f2b1b-f67b-409b-aa61-4974e17f5e60"
      },
      "execution_count": null,
      "outputs": [
        {
          "output_type": "execute_result",
          "data": {
            "text/plain": [
              "[15, 18, 59, 71, 35, 18, 45, 35]"
            ]
          },
          "metadata": {},
          "execution_count": 16
        }
      ]
    },
    {
      "cell_type": "code",
      "source": [
        "65 in edades"
      ],
      "metadata": {
        "colab": {
          "base_uri": "https://localhost:8080/"
        },
        "id": "WTfu2yDiUt3a",
        "outputId": "9ac88e68-5fe6-424e-ae34-87b873fc7f75"
      },
      "execution_count": null,
      "outputs": [
        {
          "output_type": "execute_result",
          "data": {
            "text/plain": [
              "False"
            ]
          },
          "metadata": {},
          "execution_count": 17
        }
      ]
    },
    {
      "cell_type": "code",
      "source": [
        "45 in edades"
      ],
      "metadata": {
        "colab": {
          "base_uri": "https://localhost:8080/"
        },
        "id": "po8lO14QU4ui",
        "outputId": "9d1c4fd3-6fcb-4144-f2a6-faa0f1e1bc87"
      },
      "execution_count": null,
      "outputs": [
        {
          "output_type": "execute_result",
          "data": {
            "text/plain": [
              "True"
            ]
          },
          "metadata": {},
          "execution_count": 18
        }
      ]
    },
    {
      "cell_type": "code",
      "source": [
        "for edad in edades:\n",
        "  print(edad+1)"
      ],
      "metadata": {
        "colab": {
          "base_uri": "https://localhost:8080/"
        },
        "id": "KdFM0FCWU7lV",
        "outputId": "00baba67-cd5a-4cf7-da35-6fbdc2509fd6"
      },
      "execution_count": null,
      "outputs": [
        {
          "output_type": "stream",
          "name": "stdout",
          "text": [
            "16\n",
            "19\n",
            "60\n",
            "72\n",
            "36\n",
            "19\n",
            "46\n",
            "36\n"
          ]
        }
      ]
    },
    {
      "cell_type": "code",
      "source": [
        "edades_proximo_ano = []\n",
        "for edad in edades:\n",
        "  edades_proximo_ano.append(edad+1)\n",
        "edades_proximo_ano"
      ],
      "metadata": {
        "colab": {
          "base_uri": "https://localhost:8080/"
        },
        "id": "umYTh6zEVEFw",
        "outputId": "bc29ac47-0b1a-4762-d822-f5277e7492d0"
      },
      "execution_count": null,
      "outputs": [
        {
          "output_type": "execute_result",
          "data": {
            "text/plain": [
              "[16, 19, 60, 72, 36, 19, 46, 36]"
            ]
          },
          "metadata": {},
          "execution_count": 20
        }
      ]
    },
    {
      "cell_type": "markdown",
      "source": [
        "### List Comprehension"
      ],
      "metadata": {
        "id": "p7pjMYrVWTZL"
      }
    },
    {
      "cell_type": "code",
      "source": [
        "edades_proximo_ano = [edad + 1 for edad in edades]\n",
        "edades_proximo_ano"
      ],
      "metadata": {
        "colab": {
          "base_uri": "https://localhost:8080/"
        },
        "id": "TiJT606VVWii",
        "outputId": "078af147-7854-4fe8-b205-4cfc0ec56ddc"
      },
      "execution_count": null,
      "outputs": [
        {
          "output_type": "execute_result",
          "data": {
            "text/plain": [
              "[16, 19, 60, 72, 36, 19, 46, 36]"
            ]
          },
          "metadata": {},
          "execution_count": 21
        }
      ]
    },
    {
      "cell_type": "code",
      "source": [
        "mayores_de_edad_pa = [edad + 1 for edad in edades if edad > 21]\n",
        "mayores_de_edad_pa"
      ],
      "metadata": {
        "colab": {
          "base_uri": "https://localhost:8080/"
        },
        "id": "5NKLBErHV3fG",
        "outputId": "ea22260b-cd5c-4373-b5be-b96653eb3d75"
      },
      "execution_count": null,
      "outputs": [
        {
          "output_type": "execute_result",
          "data": {
            "text/plain": [
              "[60, 72, 36, 46, 36]"
            ]
          },
          "metadata": {},
          "execution_count": 22
        }
      ]
    },
    {
      "cell_type": "markdown",
      "source": [
        "### Problemas con la mutabilidad de las listas"
      ],
      "metadata": {
        "id": "h71eGk4wiydc"
      }
    },
    {
      "cell_type": "code",
      "source": [
        "def analisis_listas(lista):\n",
        "  print(id(lista))\n",
        "  print(len(lista))\n",
        "  lista.append(13)\n",
        "  return lista"
      ],
      "metadata": {
        "id": "ev7sO5LaikM0"
      },
      "execution_count": null,
      "outputs": []
    },
    {
      "cell_type": "code",
      "source": [
        "edades = [16, 19, 60, 72, 36, 19, 46, 36]"
      ],
      "metadata": {
        "id": "kFcyAgoZjEpH"
      },
      "execution_count": null,
      "outputs": []
    },
    {
      "cell_type": "code",
      "source": [
        "analisis_listas(edades)"
      ],
      "metadata": {
        "colab": {
          "base_uri": "https://localhost:8080/"
        },
        "id": "BFclmsAtjI96",
        "outputId": "38fcb397-408a-43fd-f598-57e20b631975"
      },
      "execution_count": null,
      "outputs": [
        {
          "output_type": "stream",
          "name": "stdout",
          "text": [
            "137944113736000\n",
            "8\n"
          ]
        },
        {
          "output_type": "execute_result",
          "data": {
            "text/plain": [
              "[16, 19, 60, 72, 36, 19, 46, 36, 13]"
            ]
          },
          "metadata": {},
          "execution_count": 25
        }
      ]
    },
    {
      "cell_type": "code",
      "source": [
        "def analisis_listas(lista=[]):\n",
        "  print(id(lista))\n",
        "  print(len(lista))\n",
        "  lista.append(13)\n",
        "  return lista"
      ],
      "metadata": {
        "id": "LNqCr33qjMTo"
      },
      "execution_count": null,
      "outputs": []
    },
    {
      "cell_type": "code",
      "source": [
        "analisis_listas()"
      ],
      "metadata": {
        "colab": {
          "base_uri": "https://localhost:8080/"
        },
        "id": "akKMqWMZjeDI",
        "outputId": "37e5d39f-7671-441a-d9eb-be22b7aeb442"
      },
      "execution_count": null,
      "outputs": [
        {
          "output_type": "stream",
          "name": "stdout",
          "text": [
            "137944129141312\n",
            "0\n"
          ]
        },
        {
          "output_type": "execute_result",
          "data": {
            "text/plain": [
              "[13]"
            ]
          },
          "metadata": {},
          "execution_count": 27
        }
      ]
    },
    {
      "cell_type": "code",
      "source": [
        "analisis_listas()"
      ],
      "metadata": {
        "colab": {
          "base_uri": "https://localhost:8080/"
        },
        "id": "2LzRpY7qjheC",
        "outputId": "c62a19ab-f63b-4e24-ac5d-3df7980c5a00"
      },
      "execution_count": null,
      "outputs": [
        {
          "output_type": "stream",
          "name": "stdout",
          "text": [
            "137944129141312\n",
            "1\n"
          ]
        },
        {
          "output_type": "execute_result",
          "data": {
            "text/plain": [
              "[13, 13]"
            ]
          },
          "metadata": {},
          "execution_count": 28
        }
      ]
    },
    {
      "cell_type": "code",
      "source": [
        "def analisis_listas(lista=None):\n",
        "  print(id(lista))\n",
        "  if lista == None:\n",
        "    lista = list()\n",
        "    print(id(lista))\n",
        "  print(len(lista))\n",
        "  lista.append(13)\n",
        "  return lista"
      ],
      "metadata": {
        "id": "nLvRAo55jlCx"
      },
      "execution_count": null,
      "outputs": []
    },
    {
      "cell_type": "code",
      "source": [
        "analisis_listas()"
      ],
      "metadata": {
        "colab": {
          "base_uri": "https://localhost:8080/"
        },
        "id": "LAB8aCZCj9XM",
        "outputId": "027f1694-9447-4379-e386-db43807ba363"
      },
      "execution_count": null,
      "outputs": [
        {
          "output_type": "stream",
          "name": "stdout",
          "text": [
            "98221330310112\n",
            "137944113778816\n",
            "0\n"
          ]
        },
        {
          "output_type": "execute_result",
          "data": {
            "text/plain": [
              "[13]"
            ]
          },
          "metadata": {},
          "execution_count": 30
        }
      ]
    },
    {
      "cell_type": "code",
      "source": [
        "analisis_listas()"
      ],
      "metadata": {
        "colab": {
          "base_uri": "https://localhost:8080/"
        },
        "id": "HFaKtDKTj-86",
        "outputId": "38747afd-7382-409a-8318-4a67c01478c1"
      },
      "execution_count": null,
      "outputs": [
        {
          "output_type": "stream",
          "name": "stdout",
          "text": [
            "98221330310112\n",
            "137944113785984\n",
            "0\n"
          ]
        },
        {
          "output_type": "execute_result",
          "data": {
            "text/plain": [
              "[13]"
            ]
          },
          "metadata": {},
          "execution_count": 31
        }
      ]
    },
    {
      "cell_type": "code",
      "source": [
        "class CuentaCorriente:\n",
        "  def __init__(self,codigo):\n",
        "    self.codigo = codigo\n",
        "    self.saldo = 0\n",
        "\n",
        "  def deposita(self,valor):\n",
        "    self.saldo += valor\n",
        "\n",
        "  def __str__(self):\n",
        "    return f'>>>Código: {self.codigo} -- Saldo: {self.saldo}<<<'"
      ],
      "metadata": {
        "id": "1fiyGrdbkDn9"
      },
      "execution_count": null,
      "outputs": []
    },
    {
      "cell_type": "code",
      "source": [
        "cuenta_alvaro = CuentaCorriente(16)\n",
        "cuenta_alvaro.deposita(500.0)\n",
        "cuenta_stef = CuentaCorriente(17)\n",
        "cuenta_stef.deposita(1000.0)"
      ],
      "metadata": {
        "id": "UoFFvz80l8Yu"
      },
      "execution_count": null,
      "outputs": []
    },
    {
      "cell_type": "code",
      "source": [
        "cuentas = [cuenta_alvaro, cuenta_stef]"
      ],
      "metadata": {
        "id": "OoZet1OXmMsH"
      },
      "execution_count": null,
      "outputs": []
    },
    {
      "cell_type": "code",
      "source": [
        "for cuenta in cuentas:\n",
        "  print(f'El espacio de memoria es: {id(cuenta)}')\n",
        "  print(cuenta)"
      ],
      "metadata": {
        "colab": {
          "base_uri": "https://localhost:8080/"
        },
        "id": "kQIDwiQjmToe",
        "outputId": "09e92f8c-7053-4cb0-df80-39a140f7ad19"
      },
      "execution_count": null,
      "outputs": [
        {
          "output_type": "stream",
          "name": "stdout",
          "text": [
            "El espacio de memoria es: 137944113750192\n",
            ">>>Código: 16 -- Saldo: 500.0<<<\n",
            "El espacio de memoria es: 137944113750960\n",
            ">>>Código: 17 -- Saldo: 1000.0<<<\n"
          ]
        }
      ]
    },
    {
      "cell_type": "code",
      "source": [
        "for cuenta in cuentas:\n",
        "  print(f'El espacio de memoria es: {id(cuenta)}')\n",
        "  print(cuenta)"
      ],
      "metadata": {
        "colab": {
          "base_uri": "https://localhost:8080/"
        },
        "id": "49HcAnhJmdp8",
        "outputId": "05acd1ec-01e0-4359-e714-bfa568b801ce"
      },
      "execution_count": null,
      "outputs": [
        {
          "output_type": "stream",
          "name": "stdout",
          "text": [
            "El espacio de memoria es: 137944113750192\n",
            ">>>Código: 16 -- Saldo: 500.0<<<\n",
            "El espacio de memoria es: 137944113750960\n",
            ">>>Código: 17 -- Saldo: 1000.0<<<\n"
          ]
        }
      ]
    },
    {
      "cell_type": "code",
      "source": [
        "cuentas = [cuenta_alvaro, cuenta_stef, cuenta_alvaro]"
      ],
      "metadata": {
        "id": "e4kB3YijmzXu"
      },
      "execution_count": null,
      "outputs": []
    },
    {
      "cell_type": "code",
      "source": [
        "for cuenta in cuentas:\n",
        "  print(f'El espacio de memoria es: {id(cuenta)}')\n",
        "  print(cuenta)"
      ],
      "metadata": {
        "colab": {
          "base_uri": "https://localhost:8080/"
        },
        "id": "DEVPdMVOm5zg",
        "outputId": "89ec4fd0-947b-43d8-885e-7d9e87170b73"
      },
      "execution_count": null,
      "outputs": [
        {
          "output_type": "stream",
          "name": "stdout",
          "text": [
            "El espacio de memoria es: 137944113750192\n",
            ">>>Código: 16 -- Saldo: 500.0<<<\n",
            "El espacio de memoria es: 137944113750960\n",
            ">>>Código: 17 -- Saldo: 1000.0<<<\n",
            "El espacio de memoria es: 137944113750192\n",
            ">>>Código: 16 -- Saldo: 500.0<<<\n"
          ]
        }
      ]
    },
    {
      "cell_type": "code",
      "source": [
        "def desposita_a_todos(cuentas):\n",
        "  for cuenta in cuentas:\n",
        "    cuenta.deposita(100)\n",
        "\n",
        "cuentas = [cuenta_alvaro, cuenta_stef, cuenta_alvaro]"
      ],
      "metadata": {
        "id": "BFxcbDc4p9GA"
      },
      "execution_count": null,
      "outputs": []
    },
    {
      "cell_type": "code",
      "source": [
        "desposita_a_todos(cuentas)"
      ],
      "metadata": {
        "id": "70MA9xuSqXzD"
      },
      "execution_count": null,
      "outputs": []
    },
    {
      "cell_type": "code",
      "source": [
        "for cuenta in cuentas:\n",
        "  print(f'El espacio de memoria es: {id(cuenta)}')\n",
        "  print(cuenta)"
      ],
      "metadata": {
        "colab": {
          "base_uri": "https://localhost:8080/"
        },
        "id": "wi3eevKKqain",
        "outputId": "ee24eba3-35e5-4f35-e80c-200a20ba5a5a"
      },
      "execution_count": null,
      "outputs": [
        {
          "output_type": "stream",
          "name": "stdout",
          "text": [
            "El espacio de memoria es: 137944113750192\n",
            ">>>Código: 16 -- Saldo: 700.0<<<\n",
            "El espacio de memoria es: 137944113750960\n",
            ">>>Código: 17 -- Saldo: 1100.0<<<\n",
            "El espacio de memoria es: 137944113750192\n",
            ">>>Código: 16 -- Saldo: 700.0<<<\n"
          ]
        }
      ]
    },
    {
      "cell_type": "code",
      "source": [
        "cuentas.insert(0,76)\n",
        "for cuenta in cuentas:\n",
        "  print(f'El espacio de memoria es: {id(cuenta)}')\n",
        "  print(cuenta)"
      ],
      "metadata": {
        "colab": {
          "base_uri": "https://localhost:8080/"
        },
        "id": "AC79gbRcqdoZ",
        "outputId": "dade04ee-d463-4520-ea7c-8410b2519d17"
      },
      "execution_count": null,
      "outputs": [
        {
          "output_type": "stream",
          "name": "stdout",
          "text": [
            "El espacio de memoria es: 137944541710928\n",
            "76\n",
            "El espacio de memoria es: 137944113750192\n",
            ">>>Código: 16 -- Saldo: 700.0<<<\n",
            "El espacio de memoria es: 137944113750960\n",
            ">>>Código: 17 -- Saldo: 1100.0<<<\n",
            "El espacio de memoria es: 137944113750192\n",
            ">>>Código: 16 -- Saldo: 700.0<<<\n"
          ]
        }
      ]
    },
    {
      "cell_type": "code",
      "source": [
        "desposita_a_todos(cuentas)"
      ],
      "metadata": {
        "colab": {
          "base_uri": "https://localhost:8080/",
          "height": 304
        },
        "id": "VqV1sOLYqnWL",
        "outputId": "f3d6c18f-6045-4cb3-807c-b377592cac31"
      },
      "execution_count": null,
      "outputs": [
        {
          "output_type": "error",
          "ename": "AttributeError",
          "evalue": "ignored",
          "traceback": [
            "\u001b[0;31m---------------------------------------------------------------------------\u001b[0m",
            "\u001b[0;31mAttributeError\u001b[0m                            Traceback (most recent call last)",
            "\u001b[0;32m<ipython-input-43-ac4368a5b95b>\u001b[0m in \u001b[0;36m<cell line: 1>\u001b[0;34m()\u001b[0m\n\u001b[0;32m----> 1\u001b[0;31m \u001b[0mdesposita_a_todos\u001b[0m\u001b[0;34m(\u001b[0m\u001b[0mcuentas\u001b[0m\u001b[0;34m)\u001b[0m\u001b[0;34m\u001b[0m\u001b[0;34m\u001b[0m\u001b[0m\n\u001b[0m",
            "\u001b[0;32m<ipython-input-39-25eb568d2eb7>\u001b[0m in \u001b[0;36mdesposita_a_todos\u001b[0;34m(cuentas)\u001b[0m\n\u001b[1;32m      1\u001b[0m \u001b[0;32mdef\u001b[0m \u001b[0mdesposita_a_todos\u001b[0m\u001b[0;34m(\u001b[0m\u001b[0mcuentas\u001b[0m\u001b[0;34m)\u001b[0m\u001b[0;34m:\u001b[0m\u001b[0;34m\u001b[0m\u001b[0;34m\u001b[0m\u001b[0m\n\u001b[1;32m      2\u001b[0m   \u001b[0;32mfor\u001b[0m \u001b[0mcuenta\u001b[0m \u001b[0;32min\u001b[0m \u001b[0mcuentas\u001b[0m\u001b[0;34m:\u001b[0m\u001b[0;34m\u001b[0m\u001b[0;34m\u001b[0m\u001b[0m\n\u001b[0;32m----> 3\u001b[0;31m     \u001b[0mcuenta\u001b[0m\u001b[0;34m.\u001b[0m\u001b[0mdeposita\u001b[0m\u001b[0;34m(\u001b[0m\u001b[0;36m100\u001b[0m\u001b[0;34m)\u001b[0m\u001b[0;34m\u001b[0m\u001b[0;34m\u001b[0m\u001b[0m\n\u001b[0m\u001b[1;32m      4\u001b[0m \u001b[0;34m\u001b[0m\u001b[0m\n\u001b[1;32m      5\u001b[0m \u001b[0mcuentas\u001b[0m \u001b[0;34m=\u001b[0m \u001b[0;34m[\u001b[0m\u001b[0mcuenta_alvaro\u001b[0m\u001b[0;34m,\u001b[0m \u001b[0mcuenta_stef\u001b[0m\u001b[0;34m,\u001b[0m \u001b[0mcuenta_alvaro\u001b[0m\u001b[0;34m]\u001b[0m\u001b[0;34m\u001b[0m\u001b[0;34m\u001b[0m\u001b[0m\n",
            "\u001b[0;31mAttributeError\u001b[0m: 'int' object has no attribute 'deposita'"
          ]
        }
      ]
    },
    {
      "cell_type": "markdown",
      "source": [
        "# Tuplas"
      ],
      "metadata": {
        "id": "pNIosKkKqxxQ"
      }
    },
    {
      "cell_type": "code",
      "source": [
        "tupla = ()\n",
        "type(tupla)"
      ],
      "metadata": {
        "colab": {
          "base_uri": "https://localhost:8080/"
        },
        "id": "Qfsyo1PBqqFD",
        "outputId": "a273427e-857b-4f72-9a73-c32d0d05a9d6"
      },
      "execution_count": null,
      "outputs": [
        {
          "output_type": "execute_result",
          "data": {
            "text/plain": [
              "tuple"
            ]
          },
          "metadata": {},
          "execution_count": 44
        }
      ]
    },
    {
      "cell_type": "code",
      "source": [
        "alvaro = ('Álvaro',39,1984)\n",
        "stef = ('Stephany',37,1986)\n",
        "pablo = ('Pablo', 50, 1973)"
      ],
      "metadata": {
        "id": "asxmOVyqrCvs"
      },
      "execution_count": null,
      "outputs": []
    },
    {
      "cell_type": "code",
      "source": [
        "alvaro[2]"
      ],
      "metadata": {
        "colab": {
          "base_uri": "https://localhost:8080/"
        },
        "id": "rr0WZIrXrSPD",
        "outputId": "c587f7eb-e12a-4faa-c974-6123aff96b29"
      },
      "execution_count": null,
      "outputs": [
        {
          "output_type": "execute_result",
          "data": {
            "text/plain": [
              "1984"
            ]
          },
          "metadata": {},
          "execution_count": 46
        }
      ]
    },
    {
      "cell_type": "code",
      "source": [
        "pablo[0] = 'Paulo'"
      ],
      "metadata": {
        "colab": {
          "base_uri": "https://localhost:8080/",
          "height": 179
        },
        "id": "x00qudytrUbr",
        "outputId": "017f6056-a730-4d40-e1f6-5348c2a1b419"
      },
      "execution_count": null,
      "outputs": [
        {
          "output_type": "error",
          "ename": "TypeError",
          "evalue": "ignored",
          "traceback": [
            "\u001b[0;31m---------------------------------------------------------------------------\u001b[0m",
            "\u001b[0;31mTypeError\u001b[0m                                 Traceback (most recent call last)",
            "\u001b[0;32m<ipython-input-47-cb7566cc7bc1>\u001b[0m in \u001b[0;36m<cell line: 1>\u001b[0;34m()\u001b[0m\n\u001b[0;32m----> 1\u001b[0;31m \u001b[0mpablo\u001b[0m\u001b[0;34m[\u001b[0m\u001b[0;36m0\u001b[0m\u001b[0;34m]\u001b[0m \u001b[0;34m=\u001b[0m \u001b[0;34m'Paulo'\u001b[0m\u001b[0;34m\u001b[0m\u001b[0;34m\u001b[0m\u001b[0m\n\u001b[0m",
            "\u001b[0;31mTypeError\u001b[0m: 'tuple' object does not support item assignment"
          ]
        }
      ]
    },
    {
      "cell_type": "code",
      "source": [
        "clientes = [alvaro,stef,pablo]"
      ],
      "metadata": {
        "id": "HzoL18Mnra3s"
      },
      "execution_count": null,
      "outputs": []
    },
    {
      "cell_type": "code",
      "source": [
        "clientes[1][1]"
      ],
      "metadata": {
        "colab": {
          "base_uri": "https://localhost:8080/"
        },
        "id": "kH2mfU44rpne",
        "outputId": "00480213-2367-453d-cb51-133621ac9d82"
      },
      "execution_count": null,
      "outputs": [
        {
          "output_type": "execute_result",
          "data": {
            "text/plain": [
              "37"
            ]
          },
          "metadata": {},
          "execution_count": 49
        }
      ]
    },
    {
      "cell_type": "code",
      "source": [
        "clientes[1][1] = 36"
      ],
      "metadata": {
        "colab": {
          "base_uri": "https://localhost:8080/",
          "height": 179
        },
        "id": "f7WuQzdGrtHw",
        "outputId": "becdc8c5-2640-40bf-b76b-76553b5e594f"
      },
      "execution_count": null,
      "outputs": [
        {
          "output_type": "error",
          "ename": "TypeError",
          "evalue": "ignored",
          "traceback": [
            "\u001b[0;31m---------------------------------------------------------------------------\u001b[0m",
            "\u001b[0;31mTypeError\u001b[0m                                 Traceback (most recent call last)",
            "\u001b[0;32m<ipython-input-50-56d66f29403d>\u001b[0m in \u001b[0;36m<cell line: 1>\u001b[0;34m()\u001b[0m\n\u001b[0;32m----> 1\u001b[0;31m \u001b[0mclientes\u001b[0m\u001b[0;34m[\u001b[0m\u001b[0;36m1\u001b[0m\u001b[0;34m]\u001b[0m\u001b[0;34m[\u001b[0m\u001b[0;36m1\u001b[0m\u001b[0;34m]\u001b[0m \u001b[0;34m=\u001b[0m \u001b[0;36m36\u001b[0m\u001b[0;34m\u001b[0m\u001b[0;34m\u001b[0m\u001b[0m\n\u001b[0m",
            "\u001b[0;31mTypeError\u001b[0m: 'tuple' object does not support item assignment"
          ]
        }
      ]
    },
    {
      "cell_type": "code",
      "source": [
        "clientes.append(('Jorge',23,2000))"
      ],
      "metadata": {
        "id": "R84SFalPrv7g"
      },
      "execution_count": null,
      "outputs": []
    },
    {
      "cell_type": "code",
      "source": [
        "for cliente in clientes:\n",
        "  print(cliente)"
      ],
      "metadata": {
        "colab": {
          "base_uri": "https://localhost:8080/"
        },
        "id": "tMoSsm9mr6Wi",
        "outputId": "fb1310ce-e2dd-4e37-9db0-15f94ae81132"
      },
      "execution_count": null,
      "outputs": [
        {
          "output_type": "stream",
          "name": "stdout",
          "text": [
            "('Álvaro', 39, 1984)\n",
            "('Stephany', 37, 1986)\n",
            "('Pablo', 50, 1973)\n",
            "('Jorge', 23, 2000)\n"
          ]
        }
      ]
    },
    {
      "cell_type": "code",
      "source": [
        "alvaro.index(39)"
      ],
      "metadata": {
        "colab": {
          "base_uri": "https://localhost:8080/"
        },
        "id": "Sqedg0xpr-5Z",
        "outputId": "8b66b305-a1db-40d5-b16b-e30671341d84"
      },
      "execution_count": null,
      "outputs": [
        {
          "output_type": "execute_result",
          "data": {
            "text/plain": [
              "1"
            ]
          },
          "metadata": {},
          "execution_count": 53
        }
      ]
    },
    {
      "cell_type": "code",
      "source": [
        "clientes"
      ],
      "metadata": {
        "colab": {
          "base_uri": "https://localhost:8080/"
        },
        "id": "IOOqRabJuf7i",
        "outputId": "773f1047-8e09-402c-c15c-9a902745d6ea"
      },
      "execution_count": null,
      "outputs": [
        {
          "output_type": "execute_result",
          "data": {
            "text/plain": [
              "[('Álvaro', 39, 1984),\n",
              " ('Stephany', 37, 1986),\n",
              " ('Pablo', 50, 1973),\n",
              " ('Jorge', 23, 2000)]"
            ]
          },
          "metadata": {},
          "execution_count": 54
        }
      ]
    },
    {
      "cell_type": "code",
      "source": [
        "len(clientes[0])"
      ],
      "metadata": {
        "colab": {
          "base_uri": "https://localhost:8080/"
        },
        "id": "lGygRnjcwyvm",
        "outputId": "af0131bb-99dc-43f2-846c-39f1ea67128f"
      },
      "execution_count": null,
      "outputs": [
        {
          "output_type": "execute_result",
          "data": {
            "text/plain": [
              "3"
            ]
          },
          "metadata": {},
          "execution_count": 55
        }
      ]
    },
    {
      "cell_type": "code",
      "source": [
        "range(len(clientes[0]))"
      ],
      "metadata": {
        "colab": {
          "base_uri": "https://localhost:8080/"
        },
        "id": "PeKHlww-w65w",
        "outputId": "af8d15e2-e506-4212-b8eb-d2ff6a51a620"
      },
      "execution_count": null,
      "outputs": [
        {
          "output_type": "execute_result",
          "data": {
            "text/plain": [
              "range(0, 3)"
            ]
          },
          "metadata": {},
          "execution_count": 56
        }
      ]
    },
    {
      "cell_type": "code",
      "source": [
        "range(len(clientes))"
      ],
      "metadata": {
        "colab": {
          "base_uri": "https://localhost:8080/"
        },
        "id": "iPOp4o8nxBfo",
        "outputId": "11c7d7d6-a244-41f5-e040-22d3a67cec5d"
      },
      "execution_count": null,
      "outputs": [
        {
          "output_type": "execute_result",
          "data": {
            "text/plain": [
              "range(0, 4)"
            ]
          },
          "metadata": {},
          "execution_count": 57
        }
      ]
    },
    {
      "cell_type": "code",
      "source": [
        "for i in range(len(clientes)):\n",
        "  print(i, clientes[i][0])"
      ],
      "metadata": {
        "colab": {
          "base_uri": "https://localhost:8080/"
        },
        "id": "uruFu00qxNSC",
        "outputId": "a350292e-0649-47f0-8801-219186e5422f"
      },
      "execution_count": null,
      "outputs": [
        {
          "output_type": "stream",
          "name": "stdout",
          "text": [
            "0 Álvaro\n",
            "1 Stephany\n",
            "2 Pablo\n",
            "3 Jorge\n"
          ]
        }
      ]
    },
    {
      "cell_type": "code",
      "source": [
        "list(enumerate(clientes, start=1000))"
      ],
      "metadata": {
        "colab": {
          "base_uri": "https://localhost:8080/"
        },
        "id": "f0PlFgVMxioa",
        "outputId": "da5af30e-2645-4b82-8672-2e9e4a1830a5"
      },
      "execution_count": null,
      "outputs": [
        {
          "output_type": "execute_result",
          "data": {
            "text/plain": [
              "[(1000, ('Álvaro', 39, 1984)),\n",
              " (1001, ('Stephany', 37, 1986)),\n",
              " (1002, ('Pablo', 50, 1973)),\n",
              " (1003, ('Jorge', 23, 2000))]"
            ]
          },
          "metadata": {},
          "execution_count": 59
        }
      ]
    },
    {
      "cell_type": "code",
      "source": [
        "nuevos_clientes = list(enumerate(clientes, start=1000))"
      ],
      "metadata": {
        "id": "tcH6ViyHzmDq"
      },
      "execution_count": null,
      "outputs": []
    },
    {
      "cell_type": "code",
      "source": [
        "for codigo, informacion in nuevos_clientes:\n",
        "  print(codigo, informacion[2])"
      ],
      "metadata": {
        "colab": {
          "base_uri": "https://localhost:8080/"
        },
        "id": "BIIZRHcI1Rx4",
        "outputId": "b7d06aca-1511-4083-bfc2-0c61d0ec285a"
      },
      "execution_count": null,
      "outputs": [
        {
          "output_type": "stream",
          "name": "stdout",
          "text": [
            "1000 1984\n",
            "1001 1986\n",
            "1002 1973\n",
            "1003 2000\n"
          ]
        }
      ]
    },
    {
      "cell_type": "markdown",
      "source": [
        "# Herencia y Polimorfismo"
      ],
      "metadata": {
        "id": "4oYQq7Gs5nLL"
      }
    },
    {
      "cell_type": "code",
      "source": [
        "class Cuenta:\n",
        "  def __init__(self,codigo):\n",
        "    self._codigo = codigo\n",
        "    self._saldo = 0\n",
        "\n",
        "  def deposita(self,valor):\n",
        "    self._saldo += valor\n",
        "\n",
        "  def pasa_mes(self):\n",
        "    self._saldo *= 1.005\n",
        "\n",
        "  def __str__(self):\n",
        "    return f'>>>Código: {self._codigo} -- Saldo: {self._saldo}<<<'"
      ],
      "metadata": {
        "id": "f44vvbeV1e8a"
      },
      "execution_count": null,
      "outputs": []
    },
    {
      "cell_type": "code",
      "source": [
        "class CuentaCorriente(Cuenta):\n",
        "  def pasa_mes(self):\n",
        "    self._saldo -= 2\n",
        "\n",
        "class CuentaAhorros(Cuenta):\n",
        "  def pasa_mes(self):\n",
        "    self._saldo *= 1.01\n",
        "    self._saldo -= 3\n",
        "\n",
        "class CuentaInversiones(Cuenta):\n",
        "  pass"
      ],
      "metadata": {
        "id": "U971gC_f2DOi"
      },
      "execution_count": null,
      "outputs": []
    },
    {
      "cell_type": "code",
      "source": [
        "cuenta_alvaro = CuentaCorriente(16)\n",
        "cuenta_alvaro.deposita(500)\n",
        "cuenta_alvaro.pasa_mes()\n",
        "cuenta_stef = CuentaCorriente(17)\n",
        "cuenta_stef.deposita(1000)\n",
        "cuenta_stef.pasa_mes()\n",
        "cuenta_inversiones = CuentaInversiones(18)\n",
        "cuenta_inversiones.deposita(500)\n",
        "cuenta_inversiones.pasa_mes()\n",
        "\n",
        "cuentas = [cuenta_alvaro, cuenta_stef,cuenta_inversiones]"
      ],
      "metadata": {
        "id": "T3W6Unpz2mTR"
      },
      "execution_count": null,
      "outputs": []
    },
    {
      "cell_type": "code",
      "source": [
        "for cuenta in cuentas:\n",
        "  print(cuenta)"
      ],
      "metadata": {
        "colab": {
          "base_uri": "https://localhost:8080/"
        },
        "id": "HbKKecaQ26gv",
        "outputId": "69625fc8-a464-4bc4-c518-1db57e449505"
      },
      "execution_count": null,
      "outputs": [
        {
          "output_type": "stream",
          "name": "stdout",
          "text": [
            ">>>Código: 16 -- Saldo: 498<<<\n",
            ">>>Código: 17 -- Saldo: 998<<<\n",
            ">>>Código: 18 -- Saldo: 502.49999999999994<<<\n"
          ]
        }
      ]
    },
    {
      "cell_type": "markdown",
      "source": [
        "### No crear arrays con el modulo array"
      ],
      "metadata": {
        "id": "SvbyOM1W9MAg"
      }
    },
    {
      "cell_type": "code",
      "source": [
        "import array as arr\n",
        "arr.array('d',[1,2.5])"
      ],
      "metadata": {
        "colab": {
          "base_uri": "https://localhost:8080/"
        },
        "id": "kveI1QYv8G7b",
        "outputId": "071b0b13-db5d-4bf0-c0d7-84bb3fc0caea"
      },
      "execution_count": null,
      "outputs": [
        {
          "output_type": "execute_result",
          "data": {
            "text/plain": [
              "array('d', [1.0, 2.5])"
            ]
          },
          "metadata": {},
          "execution_count": 66
        }
      ]
    },
    {
      "cell_type": "code",
      "source": [
        "numeros = arr.array('d',[1,2.5]).tolist()\n",
        "numeros"
      ],
      "metadata": {
        "colab": {
          "base_uri": "https://localhost:8080/"
        },
        "id": "qzaUj4ix8xMo",
        "outputId": "8d4bb933-d65a-4271-b665-1bca8bdcae18"
      },
      "execution_count": null,
      "outputs": [
        {
          "output_type": "execute_result",
          "data": {
            "text/plain": [
              "[1.0, 2.5]"
            ]
          },
          "metadata": {},
          "execution_count": 67
        }
      ]
    },
    {
      "cell_type": "markdown",
      "source": [
        "### Crear arrays con Numpy => Mejor práctica"
      ],
      "metadata": {
        "id": "q4g1MND19Sde"
      }
    },
    {
      "cell_type": "code",
      "source": [
        "import numpy as np\n",
        "\n",
        "numero = np.array([1,2.5])\n",
        "numero"
      ],
      "metadata": {
        "colab": {
          "base_uri": "https://localhost:8080/"
        },
        "id": "l_WiF-zj84eV",
        "outputId": "c73a0384-c01f-408d-d9a2-b1c43e51baef"
      },
      "execution_count": null,
      "outputs": [
        {
          "output_type": "execute_result",
          "data": {
            "text/plain": [
              "array([1. , 2.5])"
            ]
          },
          "metadata": {},
          "execution_count": 68
        }
      ]
    },
    {
      "cell_type": "code",
      "source": [
        "class CuentaSalario:\n",
        "  def __init__(self,codigo):\n",
        "    self._codigo = codigo\n",
        "    self._saldo = 0\n",
        "\n",
        "  def deposita(self,valor):\n",
        "    self._saldo += valor\n",
        "\n",
        "  def __str__(self):\n",
        "    return f'>>>Código: {self._codigo} -- Saldo: {self._saldo}<<<'"
      ],
      "metadata": {
        "id": "KvNjC90M9H_y"
      },
      "execution_count": null,
      "outputs": []
    },
    {
      "cell_type": "code",
      "source": [
        "salario_alvaro = CuentaSalario(15)\n",
        "salario_stephany = CuentaSalario(15)"
      ],
      "metadata": {
        "id": "XZPag2-T_l7A"
      },
      "execution_count": null,
      "outputs": []
    },
    {
      "cell_type": "code",
      "source": [
        "salario_alvaro == salario_stephany"
      ],
      "metadata": {
        "colab": {
          "base_uri": "https://localhost:8080/"
        },
        "id": "g2qOBdIf_vVy",
        "outputId": "7cd16496-a3d9-4304-a8c9-358aada2b0e4"
      },
      "execution_count": null,
      "outputs": [
        {
          "output_type": "execute_result",
          "data": {
            "text/plain": [
              "False"
            ]
          },
          "metadata": {},
          "execution_count": 71
        }
      ]
    },
    {
      "cell_type": "code",
      "source": [
        "salarios = [salario_alvaro, salario_stephany]\n",
        "\n",
        "for salario in salarios:\n",
        "  print(salario)"
      ],
      "metadata": {
        "colab": {
          "base_uri": "https://localhost:8080/"
        },
        "id": "UDMn3_6g_2C7",
        "outputId": "5ebc39fe-45ff-415e-b337-a23bb949e2a1"
      },
      "execution_count": null,
      "outputs": [
        {
          "output_type": "stream",
          "name": "stdout",
          "text": [
            ">>>Código: 15 -- Saldo: 0<<<\n",
            ">>>Código: 15 -- Saldo: 0<<<\n"
          ]
        }
      ]
    },
    {
      "cell_type": "code",
      "source": [
        "for salario in salarios:\n",
        "  print(id(salario))"
      ],
      "metadata": {
        "colab": {
          "base_uri": "https://localhost:8080/"
        },
        "id": "H-BA1sOdAErc",
        "outputId": "37d7dc69-7f9b-4ba4-aac1-cd3bb0c7de04"
      },
      "execution_count": null,
      "outputs": [
        {
          "output_type": "stream",
          "name": "stdout",
          "text": [
            "137944113741984\n",
            "137944113750672\n"
          ]
        }
      ]
    },
    {
      "cell_type": "code",
      "source": [
        "class CuentaSalario:\n",
        "  def __init__(self,codigo):\n",
        "    self._codigo = codigo\n",
        "    self._saldo = 0\n",
        "\n",
        "  def __eq__(self,otro):\n",
        "    return self._codigo == otro._codigo\n",
        "\n",
        "  def deposita(self,valor):\n",
        "    self._saldo += valor\n",
        "\n",
        "  def __str__(self):\n",
        "    return f'>>>Código: {self._codigo} -- Saldo: {self._saldo}<<<'"
      ],
      "metadata": {
        "id": "IwcmvVdoALoR"
      },
      "execution_count": null,
      "outputs": []
    },
    {
      "cell_type": "code",
      "source": [
        "salario_alvaro = CuentaSalario(15)\n",
        "salario_stephany = CuentaSalario(15)\n",
        "\n",
        "for salario in salarios:\n",
        "  print(id(salario))\n",
        "  print(salario)"
      ],
      "metadata": {
        "colab": {
          "base_uri": "https://localhost:8080/"
        },
        "id": "pL1ORUrfAknG",
        "outputId": "452f57d3-eb6a-44d7-8d0c-7eb84662121b"
      },
      "execution_count": null,
      "outputs": [
        {
          "output_type": "stream",
          "name": "stdout",
          "text": [
            "137944113741984\n",
            ">>>Código: 15 -- Saldo: 0<<<\n",
            "137944113750672\n",
            ">>>Código: 15 -- Saldo: 0<<<\n"
          ]
        }
      ]
    },
    {
      "cell_type": "code",
      "source": [
        "salario_alvaro == salario_stephany"
      ],
      "metadata": {
        "colab": {
          "base_uri": "https://localhost:8080/"
        },
        "id": "EwtakgWWAuvX",
        "outputId": "ec4f078d-5a23-4834-ab1e-7492dd406ba8"
      },
      "execution_count": null,
      "outputs": [
        {
          "output_type": "execute_result",
          "data": {
            "text/plain": [
              "True"
            ]
          },
          "metadata": {},
          "execution_count": 76
        }
      ]
    },
    {
      "cell_type": "code",
      "source": [
        "corriente_alvaro = CuentaCorriente(15)"
      ],
      "metadata": {
        "id": "f3Wqw_dAAyxZ"
      },
      "execution_count": null,
      "outputs": []
    },
    {
      "cell_type": "code",
      "source": [
        "corriente_alvaro == salario_alvaro"
      ],
      "metadata": {
        "colab": {
          "base_uri": "https://localhost:8080/"
        },
        "id": "oPlChZhwBM1o",
        "outputId": "20f53004-ce81-42f5-d983-b882ed3abce7"
      },
      "execution_count": null,
      "outputs": [
        {
          "output_type": "execute_result",
          "data": {
            "text/plain": [
              "True"
            ]
          },
          "metadata": {},
          "execution_count": 78
        }
      ]
    },
    {
      "cell_type": "code",
      "source": [
        "class CuentaSalario:\n",
        "  def __init__(self,codigo):\n",
        "    self._codigo = codigo\n",
        "    self._saldo = 0\n",
        "\n",
        "  def __eq__(self,otro):\n",
        "    if type(otro) != CuentaSalario:\n",
        "      return False\n",
        "    return self._codigo == otro._codigo\n",
        "\n",
        "  def deposita(self,valor):\n",
        "    self._saldo += valor\n",
        "\n",
        "  def __str__(self):\n",
        "    return f'>>>Código: {self._codigo} -- Saldo: {self._saldo}<<<'"
      ],
      "metadata": {
        "id": "8B0w1xFuBRsJ"
      },
      "execution_count": null,
      "outputs": []
    },
    {
      "cell_type": "code",
      "source": [
        "salario_alvaro = CuentaSalario(15)\n",
        "salario_stephany = CuentaSalario(15)\n",
        "corriente_alvaro = CuentaCorriente(15)"
      ],
      "metadata": {
        "id": "zFWJ3yyyBn-v"
      },
      "execution_count": null,
      "outputs": []
    },
    {
      "cell_type": "code",
      "source": [
        "corriente_alvaro == salario_alvaro"
      ],
      "metadata": {
        "colab": {
          "base_uri": "https://localhost:8080/"
        },
        "id": "ZvsK_rHABtMP",
        "outputId": "3df5c43b-7124-4df5-8aa3-a62fe441162c"
      },
      "execution_count": null,
      "outputs": [
        {
          "output_type": "execute_result",
          "data": {
            "text/plain": [
              "False"
            ]
          },
          "metadata": {},
          "execution_count": 81
        }
      ]
    },
    {
      "cell_type": "code",
      "source": [
        "edades"
      ],
      "metadata": {
        "colab": {
          "base_uri": "https://localhost:8080/"
        },
        "id": "TabSBeNfBvKj",
        "outputId": "7b0ebfb6-13a7-4726-fd54-7af9b80a7453"
      },
      "execution_count": null,
      "outputs": [
        {
          "output_type": "execute_result",
          "data": {
            "text/plain": [
              "[16, 19, 60, 72, 36, 19, 46, 36, 13]"
            ]
          },
          "metadata": {},
          "execution_count": 82
        }
      ]
    },
    {
      "cell_type": "code",
      "source": [
        "edades_menor_a_mayor = sorted(edades)"
      ],
      "metadata": {
        "id": "GOvm-KgIDGfW"
      },
      "execution_count": null,
      "outputs": []
    },
    {
      "cell_type": "code",
      "source": [
        "edades_mayor_a_menor = sorted(edades, reverse=True)"
      ],
      "metadata": {
        "id": "WQw64ZfMDoB6"
      },
      "execution_count": null,
      "outputs": []
    },
    {
      "cell_type": "code",
      "source": [
        "edades.sort()"
      ],
      "metadata": {
        "id": "CGvrjZ0ZDwbx"
      },
      "execution_count": null,
      "outputs": []
    },
    {
      "cell_type": "code",
      "source": [
        "edades"
      ],
      "metadata": {
        "colab": {
          "base_uri": "https://localhost:8080/"
        },
        "id": "eqNRB-j8EAu7",
        "outputId": "5e2f2607-7243-48ea-8298-8c6d1d222503"
      },
      "execution_count": null,
      "outputs": [
        {
          "output_type": "execute_result",
          "data": {
            "text/plain": [
              "[13, 16, 19, 19, 36, 36, 46, 60, 72]"
            ]
          },
          "metadata": {},
          "execution_count": 86
        }
      ]
    },
    {
      "cell_type": "code",
      "source": [],
      "metadata": {
        "id": "qQqpoFxL833-"
      },
      "execution_count": null,
      "outputs": []
    }
  ]
}